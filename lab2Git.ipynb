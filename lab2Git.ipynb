{
 "cells": [
  {
   "cell_type": "code",
   "execution_count": 4,
   "id": "6703b22d",
   "metadata": {},
   "outputs": [],
   "source": [
    "with open(\"exchange.json\", \"r\", encoding=\"UTF-8\") as file:\n",
    "    data = json.load(file)\n",
    "\n",
    "    with open(\"exchange.csv\", \"w\", encoding=\"UTF-8\") as file:\n",
    "        csv_file = csv.writer(file)\n",
    "        csv_file.writerow([\"a\", \"b\", \"c\", \"d\"])\n",
    "        for item in data:\n",
    "            csv_file.writerow(\n",
    "                [item[\"r030\"], item[\"txt\"], item[\"rate\"], item[\"exchangedate\"]]\n",
    "            )"
   ]
  },
  {
   "cell_type": "code",
   "execution_count": 3,
   "id": "cc5bae11",
   "metadata": {},
   "outputs": [],
   "source": [
    "import csv\n",
    "import json\n",
    "import os\n",
    "import boto3"
   ]
  },
  {
   "cell_type": "code",
   "execution_count": 4,
   "id": "7dc8e106",
   "metadata": {},
   "outputs": [],
   "source": [
    "client = boto3.client('s3')\n",
    "bucket = 'lab2bucketaws'\n",
    "cur_path = os.getcwd()\n",
    "file = 'exchange_e.csv'\n",
    "#file = 'exchange_site.csv'\n",
    "filename = os.path.join(cur_path,file)\n",
    "\n",
    "data = open(filename, 'rb')\n",
    "client.upload_file(filename,bucket,file)"
   ]
  },
  {
   "cell_type": "code",
   "execution_count": 5,
   "id": "fbc2b1cd",
   "metadata": {},
   "outputs": [
    {
     "data": {
      "text/html": [
       "<div>\n",
       "<style scoped>\n",
       "    .dataframe tbody tr th:only-of-type {\n",
       "        vertical-align: middle;\n",
       "    }\n",
       "\n",
       "    .dataframe tbody tr th {\n",
       "        vertical-align: top;\n",
       "    }\n",
       "\n",
       "    .dataframe thead th {\n",
       "        text-align: right;\n",
       "    }\n",
       "</style>\n",
       "<table border=\"1\" class=\"dataframe\">\n",
       "  <thead>\n",
       "    <tr style=\"text-align: right;\">\n",
       "      <th></th>\n",
       "      <th>a</th>\n",
       "      <th>b</th>\n",
       "      <th>c</th>\n",
       "      <th>d</th>\n",
       "      <th>e</th>\n",
       "    </tr>\n",
       "  </thead>\n",
       "  <tbody>\n",
       "    <tr>\n",
       "      <th>0</th>\n",
       "      <td>19.10.2021</td>\n",
       "      <td>840</td>\n",
       "      <td>USD</td>\n",
       "      <td>Долар США</td>\n",
       "      <td>26.3356</td>\n",
       "    </tr>\n",
       "    <tr>\n",
       "      <th>1</th>\n",
       "      <td>20.10.2021</td>\n",
       "      <td>840</td>\n",
       "      <td>USD</td>\n",
       "      <td>Долар США</td>\n",
       "      <td>26.2720</td>\n",
       "    </tr>\n",
       "    <tr>\n",
       "      <th>2</th>\n",
       "      <td>21.10.2021</td>\n",
       "      <td>840</td>\n",
       "      <td>USD</td>\n",
       "      <td>Долар США</td>\n",
       "      <td>26.2078</td>\n",
       "    </tr>\n",
       "    <tr>\n",
       "      <th>3</th>\n",
       "      <td>22.10.2021</td>\n",
       "      <td>840</td>\n",
       "      <td>USD</td>\n",
       "      <td>Долар США</td>\n",
       "      <td>26.2016</td>\n",
       "    </tr>\n",
       "    <tr>\n",
       "      <th>4</th>\n",
       "      <td>23.10.2021</td>\n",
       "      <td>840</td>\n",
       "      <td>USD</td>\n",
       "      <td>Долар США</td>\n",
       "      <td>26.2918</td>\n",
       "    </tr>\n",
       "  </tbody>\n",
       "</table>\n",
       "</div>"
      ],
      "text/plain": [
       "            a    b    c          d        e\n",
       "0  19.10.2021  840  USD  Долар США  26.3356\n",
       "1  20.10.2021  840  USD  Долар США  26.2720\n",
       "2  21.10.2021  840  USD  Долар США  26.2078\n",
       "3  22.10.2021  840  USD  Долар США  26.2016\n",
       "4  23.10.2021  840  USD  Долар США  26.2918"
      ]
     },
     "execution_count": 5,
     "metadata": {},
     "output_type": "execute_result"
    }
   ],
   "source": [
    "import pandas as pd\n",
    "client = boto3.client('s3')\n",
    "path = 's3://lab2bucketaws/exchange_d.csv'\n",
    "df = pd.read_csv(path)\n",
    "df.head()"
   ]
  },
  {
   "cell_type": "code",
   "execution_count": 17,
   "id": "3e3a7102",
   "metadata": {},
   "outputs": [
    {
     "name": "stdout",
     "output_type": "stream",
     "text": [
      "Defaulting to user installation because normal site-packages is not writeable\n",
      "Requirement already satisfied: matplotlib in ./.local/lib/python3.10/site-packages (3.6.1)\n",
      "Requirement already satisfied: numpy>=1.19 in ./.local/lib/python3.10/site-packages (from matplotlib) (1.23.4)\n",
      "Requirement already satisfied: fonttools>=4.22.0 in ./.local/lib/python3.10/site-packages (from matplotlib) (4.37.4)\n",
      "Requirement already satisfied: kiwisolver>=1.0.1 in ./.local/lib/python3.10/site-packages (from matplotlib) (1.4.4)\n",
      "Requirement already satisfied: pillow>=6.2.0 in /usr/lib/python3/dist-packages (from matplotlib) (9.0.1)\n",
      "Requirement already satisfied: packaging>=20.0 in ./.local/lib/python3.10/site-packages (from matplotlib) (21.3)\n",
      "Requirement already satisfied: cycler>=0.10 in ./.local/lib/python3.10/site-packages (from matplotlib) (0.11.0)\n",
      "Requirement already satisfied: python-dateutil>=2.7 in ./.local/lib/python3.10/site-packages (from matplotlib) (2.8.2)\n",
      "Requirement already satisfied: contourpy>=1.0.1 in ./.local/lib/python3.10/site-packages (from matplotlib) (1.0.5)\n",
      "Requirement already satisfied: pyparsing>=2.2.1 in /usr/lib/python3/dist-packages (from matplotlib) (2.4.7)\n",
      "Requirement already satisfied: six>=1.5 in /usr/lib/python3/dist-packages (from python-dateutil>=2.7->matplotlib) (1.16.0)\n"
     ]
    }
   ],
   "source": [
    "!pip install matplotlib"
   ]
  },
  {
   "cell_type": "code",
   "execution_count": 7,
   "id": "13609fab",
   "metadata": {},
   "outputs": [
    {
     "data": {
      "text/plain": [
       "[<matplotlib.lines.Line2D at 0x7f306153a320>]"
      ]
     },
     "execution_count": 7,
     "metadata": {},
     "output_type": "execute_result"
    },
    {
     "data": {
      "image/png": "[encoded data removed]",
      "text/plain": [
       "<Figure size 640x480 with 1 Axes>"
      ]
     },
     "metadata": {},
     "output_type": "display_data"
    }
   ],
   "source": [
    "from matplotlib import pyplot\n",
    "x = df.a\n",
    "y = df.e\n",
    "pyplot.plot(x,y)"
   ]
  },
  {
   "cell_type": "code",
   "execution_count": null,
   "id": "5ff6ef57",
   "metadata": {},
   "outputs": [],
   "source": []
  }
 ],
 "metadata": {
  "kernelspec": {
   "display_name": "Python 3 (ipykernel)",
   "language": "python",
   "name": "python3"
  },
  "language_info": {
   "codemirror_mode": {
    "name": "ipython",
    "version": 3
   },
   "file_extension": ".py",
   "mimetype": "text/x-python",
   "name": "python",
   "nbconvert_exporter": "python",
   "pygments_lexer": "ipython3",
   "version": "3.10.6"
  }
 },
 "nbformat": 4,
 "nbformat_minor": 5
}
